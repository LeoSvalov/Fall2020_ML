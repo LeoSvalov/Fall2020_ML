{
 "cells": [
  {
   "cell_type": "markdown",
   "metadata": {
    "collapsed": true,
    "pycharm": {
     "name": "#%% md\n"
    }
   },
   "source": [
    "# Lab-4:\n",
    "In this lab, we will examine some classifiers and the regularization concept in the classification problem.\n",
    "Also, we will see\n",
    "\n",
    "### Objectives:\n",
    "1. Lasso and Ridge\n",
    "2. Naïve Bayes\n",
    "3. KNN\n",
    "4. Cross Validation\n",
    "\n",
    "---\n",
    "## Lasso and Ridge\n",
    "Both models are the regularized forms of the linear regression.\n",
    "Lasso with L1 regularization and Ridge with L2 regularization.\n",
    "Both act as a constraint region for the coeffeicients/weight, where they must reside in.\n",
    "\n",
    "### Issues:\n",
    "1. When to use Lasso?\n",
    "2. When to use Ridge?\n",
    "3. Since it is hard to decide the parameters influence, How we can decide which regularization? and decide the value of lambda?\n",
    "\n",
    "### Loading Boston dataset\n",
    "Housing-Prices Values in Suburbs of Boston."
   ]
  },
  {
   "cell_type": "code",
   "execution_count": 1,
   "outputs": [],
   "source": [
    "from sklearn.datasets import load_boston\n",
    "from sklearn.model_selection import train_test_split\n",
    "\n",
    "X, y = load_boston(return_X_y=True)\n",
    "x_train, x_test, y_train, y_test = train_test_split(X, y, test_size=0.2, random_state=123)\n",
    "x_train, x_val, y_train, y_val = train_test_split(x_train, y_train, test_size=1/8, random_state=123)"
   ],
   "metadata": {
    "collapsed": false,
    "pycharm": {
     "name": "#%%\n"
    }
   }
  },
  {
   "cell_type": "markdown",
   "source": [
    "### Fitting both Lasso and Ridge\n",
    "Task:\n",
    "\n",
    "Fit two models: Lasso and Ridge -with the default alpha-.\n",
    "Then print their coefficients and notice the difference.\n"
   ],
   "metadata": {
    "collapsed": false,
    "pycharm": {
     "name": "#%% md\n"
    }
   }
  },
  {
   "cell_type": "code",
   "execution_count": 2,
   "outputs": [
    {
     "name": "stdout",
     "output_type": "stream",
     "text": [
      "[-6.29657633e-02  3.50956640e-02  0.00000000e+00  0.00000000e+00\n",
      " -0.00000000e+00  2.26979134e+00  6.77955847e-04 -6.45065773e-01\n",
      "  1.93545727e-01 -1.35087027e-02 -6.45345873e-01  4.49042185e-03\n",
      " -6.73150676e-01]\n",
      "[-1.11057981e-01  3.65852805e-02  4.69212854e-02  6.03824135e-01\n",
      " -6.97460565e+00  5.11864285e+00 -2.69870227e-02 -1.22824280e+00\n",
      "  2.49139807e-01 -1.39899765e-02 -8.47813312e-01  6.95422088e-03\n",
      " -4.68816487e-01]\n"
     ]
    }
   ],
   "source": [
    "from sklearn.linear_model import Lasso, Ridge\n",
    "lasso = Lasso()\n",
    "lasso.fit(X=x_train,y=y_train)\n",
    "ridge = Ridge()\n",
    "ridge.fit(X=x_train,y=y_train)\n",
    "# lasso_train = lasso.score(x_train,y_train)\n",
    "# lasso_test = lasso.score(x_test,y_test)\n",
    "# ridge_train =\n",
    "print(lasso.coef_)\n",
    "print(ridge.coef_)\n"
   ],
   "metadata": {
    "collapsed": false,
    "pycharm": {
     "name": "#%%\n"
    }
   }
  },
  {
   "cell_type": "markdown",
   "source": [
    "Task:\n",
    "Let's try different values for alpha for Lasso regressor and plot the validation loss."
   ],
   "metadata": {
    "collapsed": false,
    "pycharm": {
     "name": "#%% md\n"
    }
   }
  },
  {
   "cell_type": "code",
   "execution_count": 4,
   "outputs": [
    {
     "data": {
      "text/plain": "<Figure size 432x288 with 1 Axes>",
      "image/png": "[encoded data removed]"
     },
     "metadata": {
      "needs_background": "light"
     },
     "output_type": "display_data"
    },
    {
     "name": "stdout",
     "output_type": "stream",
     "text": [
      "Best value of alpha: 1\n"
     ]
    }
   ],
   "source": [
    "import matplotlib.pylab as plt\n",
    "import numpy as np\n",
    "from sklearn.metrics import mean_squared_error\n",
    "%matplotlib inline\n",
    "\n",
    "alphas = [2.2, 2, 1.5, 1.3, 1.2, 1.1, 1, 0.3, 0.1]\n",
    "losses = []\n",
    "for alpha in alphas:\n",
    "    # Write (5 lines): create a Lasso regressor with the alpha value.\n",
    "    # Fit it to the training set, then get the prediction of the validation set (x_val).\n",
    "    # calculate the mean sqaured error loss, then append it to the losses array\n",
    "    lasso = Lasso(alpha)\n",
    "    lasso.fit(x_train,y_train)\n",
    "    y_pred = lasso.predict(x_test)\n",
    "    losses.append(mean_squared_error(y_test,y_pred))\n",
    "plt.plot(alphas, losses)\n",
    "\n",
    "plt.xlabel(\"alpha\")\n",
    "plt.ylabel(\"Mean squared error\")\n",
    "plt.show()\n",
    "best_alpha = alphas[np.argmin(losses)]\n",
    "print(\"Best value of alpha:\", best_alpha)"
   ],
   "metadata": {
    "collapsed": false,
    "pycharm": {
     "name": "#%%\n"
    }
   }
  },
  {
   "cell_type": "markdown",
   "source": [
    "Measuring the loss on the testset with Lasso regressor with the best alpha."
   ],
   "metadata": {
    "collapsed": false,
    "pycharm": {
     "name": "#%% md\n"
    }
   }
  },
  {
   "cell_type": "code",
   "execution_count": null,
   "outputs": [],
   "source": [
    "lasso = Lasso(best_alpha)\n",
    "lasso.fit(x_train, y_train)\n",
    "y_pred = lasso.predict(x_test)\n",
    "print(\"MSE on testset:\", mean_squared_error(y_test, y_pred))"
   ],
   "metadata": {
    "collapsed": false,
    "pycharm": {
     "name": "#%%\n"
    }
   }
  },
  {
   "cell_type": "markdown",
   "source": [
    "## Loading the iris dataset\n",
    "Dataset of 3 types/classes of flowers with 4 features. Suitable for classification!"
   ],
   "metadata": {
    "collapsed": false,
    "pycharm": {
     "name": "#%% md\n"
    }
   }
  },
  {
   "cell_type": "code",
   "execution_count": 6,
   "outputs": [],
   "source": [
    "from sklearn.datasets import load_digits\n",
    "\n",
    "X, y = load_digits(return_X_y=True)\n",
    "x_train, x_test, y_train, y_test = train_test_split(X, y, test_size=0.2)\n",
    "# We will show why we didn't split a validation set.\n"
   ],
   "metadata": {
    "collapsed": false,
    "pycharm": {
     "name": "#%%\n"
    }
   }
  },
  {
   "cell_type": "markdown",
   "source": [
    "## Naïve Bayes\n",
    "We will use the Gaussian Naïve Bayes, that deals -as a assumption- with the continous features as gaussian variables to compute their probability.\n",
    "\n",
    "$$P(x_i|y) = \\frac{1}{\\sqrt{2\\pi\\sigma_y^2}}exp(-\\frac{(x_i - \\mu_y)^2}{2\\sigma_y^2})$$\n",
    "\n",
    "While $\\mu_y$ and $\\sigma_y^2$ are the mean and the variance of the feature $i$ for class $y$.\n",
    "\n",
    "Note: The different naive Bayes classifiers differ mainly by the assumptions they make regarding the distribution of $P(x_i|y)$.\n",
    "\n",
    "___\n",
    "What are the pros and cons of Naive bayes classifier?\n",
    "___"
   ],
   "metadata": {
    "collapsed": false,
    "pycharm": {
     "name": "#%% md\n"
    }
   }
  },
  {
   "cell_type": "markdown",
   "source": [
    "Let's train a naive-bayes model and check the test accuracy.\n"
   ],
   "metadata": {
    "collapsed": false
   }
  },
  {
   "cell_type": "code",
   "execution_count": 7,
   "outputs": [
    {
     "name": "stdout",
     "output_type": "stream",
     "text": [
      "0.8\n"
     ]
    }
   ],
   "source": [
    "from sklearn.naive_bayes import GaussianNB\n",
    "from sklearn.metrics import accuracy_score\n",
    "\n",
    "gauss_nb = GaussianNB()\n",
    "gauss_nb.fit(x_train, y_train)\n",
    "y_pred = gauss_nb.predict(x_test)\n",
    "print(accuracy_score(y_test, y_pred))"
   ],
   "metadata": {
    "collapsed": false,
    "pycharm": {
     "name": "#%%\n"
    }
   }
  },
  {
   "cell_type": "markdown",
   "source": [
    "## K nearest neighbour classifier\n",
    "1. What are the pros and cons of KNN?\n",
    "\n",
    "2. To decrease the variance of KNN model, should we increase or decrease the K?"
   ],
   "metadata": {
    "collapsed": false,
    "pycharm": {
     "name": "#%% md\n"
    }
   }
  },
  {
   "cell_type": "markdown",
   "source": [
    "___\n",
    "Let's do the same with KNN classifier.\n",
    "\n",
    "\n",
    "Rescale the features first."
   ],
   "metadata": {
    "collapsed": false,
    "pycharm": {
     "name": "#%% md\n"
    }
   }
  },
  {
   "cell_type": "code",
   "execution_count": 9,
   "outputs": [],
   "source": [
    "from sklearn.preprocessing import StandardScaler\n",
    "\n",
    "scaler = StandardScaler()\n",
    "x_train = scaler.fit_transform(x_train)\n",
    "x_test = scaler.transform(x_test)"
   ],
   "metadata": {
    "collapsed": false,
    "pycharm": {
     "name": "#%%\n"
    }
   }
  },
  {
   "cell_type": "code",
   "execution_count": 10,
   "outputs": [
    {
     "name": "stdout",
     "output_type": "stream",
     "text": [
      "0.9638888888888889\n"
     ]
    }
   ],
   "source": [
    "from sklearn.neighbors import KNeighborsClassifier\n",
    "from sklearn.metrics import accuracy_score\n",
    "\n",
    "knn = KNeighborsClassifier()\n",
    "knn.fit(x_train, y_train)\n",
    "y_pred = knn.predict(x_test)\n",
    "print(accuracy_score(y_test, y_pred))"
   ],
   "metadata": {
    "collapsed": false,
    "pycharm": {
     "name": "#%%\n"
    }
   }
  },
  {
   "cell_type": "markdown",
   "source": [
    "Task: Let's tune the hyperparameter $n\\_neighbors$ in the KNN classifier object using the cross-validation.\n",
    "\n",
    "___\n",
    "## Cross Validation\n",
    "Cross validation comes as an alternative for the validation set splitting.\n",
    "\n",
    "Note: that's why we didn't make a validation set."
   ],
   "metadata": {
    "collapsed": false,
    "pycharm": {
     "name": "#%% md\n"
    }
   }
  },
  {
   "cell_type": "code",
   "execution_count": 11,
   "outputs": [
    {
     "data": {
      "text/plain": "<Figure size 432x288 with 1 Axes>",
      "image/png": "[encoded data removed]"
     },
     "metadata": {
      "needs_background": "light"
     },
     "output_type": "display_data"
    },
    {
     "name": "stdout",
     "output_type": "stream",
     "text": [
      "[0.9784208923920029, 0.9672879807854944, 0.9770373126754845, 0.9763404485639864, 0.9784310408984812, 0.9728595108419877, 0.9728595108419877, 0.9693819559554819, 0.974256621900477, 0.9707824498494638, 0.9700889685734583, 0.9672913636209871, 0.9672981292919725, 0.9631169446229829, 0.9624268461824702, 0.9631203274584756, 0.9645106728459795, 0.96174013057745, 0.9652075369574777]\n",
      "Best K: 5\n"
     ]
    }
   ],
   "source": [
    "from sklearn.model_selection import cross_val_score\n",
    "import matplotlib.pylab as plt\n",
    "import numpy as np\n",
    "%matplotlib inline\n",
    "\n",
    "Ks = list(range(1, 20))\n",
    "cv_scores = []\n",
    "for K in Ks:\n",
    "    # Write 2 lines of code, one to compute the CV scores.\n",
    "    # And another to calculate the average.\n",
    "    scores = cross_val_score(KNeighborsClassifier(n_neighbors=K,),cv=7,X=x_train,y=y_train,scoring='accuracy')\n",
    "    avg_score = np.mean(scores)\n",
    "    # Task ends\n",
    "\n",
    "    cv_scores.append(avg_score)\n",
    "\n",
    "plt.plot(Ks, cv_scores)\n",
    "plt.show()\n",
    "print(cv_scores)\n",
    "print(\"Best K:\", Ks[np.argmax(cv_scores)])"
   ],
   "metadata": {
    "collapsed": false,
    "pycharm": {
     "name": "#%%\n"
    }
   }
  },
  {
   "cell_type": "markdown",
   "source": [
    "In KNN classifier, there're several hyperparamters to tune, tuning them one by one is exhaustive approach.\n",
    "Let's try a better approach called GridSearchCV.\n",
    "\n",
    "\n",
    "### GridSearchCV\n",
    "In GridSearch Cross-validation, you give different values for each hyperparamter and it will try all combinations for you.\n",
    "At the end, it will return the best combination of hyperparamters that got the best cross-validation score.\n",
    "\n",
    "Task:\n",
    "Use gridsearch to tune 3 hyperparameters:\n",
    "\n",
    "1. $n\\_neighbors$: [1, 2, . . ., 10]\n",
    "2. $weights$: ['uniform', 'distance']\n",
    "3. $metric$: ['euclidean', 'manhattan', 'chebyshev', 'cosine']\n",
    "\n",
    "Check this [link](https://scikit-learn.org/stable/auto_examples/model_selection/plot_grid_search_digits.html) for help.\n",
    "\n",
    "Then measure the accuracy on the testset."
   ],
   "metadata": {
    "collapsed": false,
    "pycharm": {
     "name": "#%% md\n"
    }
   }
  },
  {
   "cell_type": "code",
   "execution_count": 12,
   "outputs": [
    {
     "name": "stdout",
     "output_type": "stream",
     "text": [
      "0.978 (+/-0.021) for {'metric': 'euclidean', 'n_neighbors': 1, 'weights': 'uniform'}\n",
      "0.978 (+/-0.021) for {'metric': 'euclidean', 'n_neighbors': 1, 'weights': 'distance'}\n",
      "0.967 (+/-0.021) for {'metric': 'euclidean', 'n_neighbors': 2, 'weights': 'uniform'}\n",
      "0.978 (+/-0.021) for {'metric': 'euclidean', 'n_neighbors': 2, 'weights': 'distance'}\n",
      "0.977 (+/-0.013) for {'metric': 'euclidean', 'n_neighbors': 3, 'weights': 'uniform'}\n",
      "0.978 (+/-0.013) for {'metric': 'euclidean', 'n_neighbors': 3, 'weights': 'distance'}\n",
      "0.976 (+/-0.013) for {'metric': 'euclidean', 'n_neighbors': 4, 'weights': 'uniform'}\n",
      "0.978 (+/-0.014) for {'metric': 'euclidean', 'n_neighbors': 4, 'weights': 'distance'}\n",
      "0.978 (+/-0.010) for {'metric': 'euclidean', 'n_neighbors': 5, 'weights': 'uniform'}\n",
      "0.980 (+/-0.012) for {'metric': 'euclidean', 'n_neighbors': 5, 'weights': 'distance'}\n",
      "0.973 (+/-0.007) for {'metric': 'euclidean', 'n_neighbors': 6, 'weights': 'uniform'}\n",
      "0.978 (+/-0.011) for {'metric': 'euclidean', 'n_neighbors': 6, 'weights': 'distance'}\n",
      "0.973 (+/-0.007) for {'metric': 'euclidean', 'n_neighbors': 7, 'weights': 'uniform'}\n",
      "0.974 (+/-0.012) for {'metric': 'euclidean', 'n_neighbors': 7, 'weights': 'distance'}\n",
      "0.969 (+/-0.011) for {'metric': 'euclidean', 'n_neighbors': 8, 'weights': 'uniform'}\n",
      "0.975 (+/-0.015) for {'metric': 'euclidean', 'n_neighbors': 8, 'weights': 'distance'}\n",
      "0.974 (+/-0.018) for {'metric': 'euclidean', 'n_neighbors': 9, 'weights': 'uniform'}\n",
      "0.974 (+/-0.021) for {'metric': 'euclidean', 'n_neighbors': 9, 'weights': 'distance'}\n",
      "0.971 (+/-0.019) for {'metric': 'euclidean', 'n_neighbors': 10, 'weights': 'uniform'}\n",
      "0.975 (+/-0.014) for {'metric': 'euclidean', 'n_neighbors': 10, 'weights': 'distance'}\n",
      "0.983 (+/-0.018) for {'metric': 'manhattan', 'n_neighbors': 1, 'weights': 'uniform'}\n",
      "0.983 (+/-0.018) for {'metric': 'manhattan', 'n_neighbors': 1, 'weights': 'distance'}\n",
      "0.974 (+/-0.021) for {'metric': 'manhattan', 'n_neighbors': 2, 'weights': 'uniform'}\n",
      "0.983 (+/-0.018) for {'metric': 'manhattan', 'n_neighbors': 2, 'weights': 'distance'}\n",
      "0.981 (+/-0.016) for {'metric': 'manhattan', 'n_neighbors': 3, 'weights': 'uniform'}\n",
      "0.981 (+/-0.016) for {'metric': 'manhattan', 'n_neighbors': 3, 'weights': 'distance'}\n",
      "0.976 (+/-0.018) for {'metric': 'manhattan', 'n_neighbors': 4, 'weights': 'uniform'}\n",
      "0.983 (+/-0.015) for {'metric': 'manhattan', 'n_neighbors': 4, 'weights': 'distance'}\n",
      "0.978 (+/-0.015) for {'metric': 'manhattan', 'n_neighbors': 5, 'weights': 'uniform'}\n",
      "0.980 (+/-0.016) for {'metric': 'manhattan', 'n_neighbors': 5, 'weights': 'distance'}\n",
      "0.977 (+/-0.012) for {'metric': 'manhattan', 'n_neighbors': 6, 'weights': 'uniform'}\n",
      "0.981 (+/-0.015) for {'metric': 'manhattan', 'n_neighbors': 6, 'weights': 'distance'}\n",
      "0.978 (+/-0.011) for {'metric': 'manhattan', 'n_neighbors': 7, 'weights': 'uniform'}\n",
      "0.981 (+/-0.010) for {'metric': 'manhattan', 'n_neighbors': 7, 'weights': 'distance'}\n",
      "0.973 (+/-0.019) for {'metric': 'manhattan', 'n_neighbors': 8, 'weights': 'uniform'}\n",
      "0.978 (+/-0.013) for {'metric': 'manhattan', 'n_neighbors': 8, 'weights': 'distance'}\n",
      "0.971 (+/-0.013) for {'metric': 'manhattan', 'n_neighbors': 9, 'weights': 'uniform'}\n",
      "0.977 (+/-0.015) for {'metric': 'manhattan', 'n_neighbors': 9, 'weights': 'distance'}\n",
      "0.969 (+/-0.018) for {'metric': 'manhattan', 'n_neighbors': 10, 'weights': 'uniform'}\n",
      "0.976 (+/-0.015) for {'metric': 'manhattan', 'n_neighbors': 10, 'weights': 'distance'}\n",
      "0.941 (+/-0.027) for {'metric': 'chebyshev', 'n_neighbors': 1, 'weights': 'uniform'}\n",
      "0.941 (+/-0.027) for {'metric': 'chebyshev', 'n_neighbors': 1, 'weights': 'distance'}\n",
      "0.923 (+/-0.028) for {'metric': 'chebyshev', 'n_neighbors': 2, 'weights': 'uniform'}\n",
      "0.940 (+/-0.030) for {'metric': 'chebyshev', 'n_neighbors': 2, 'weights': 'distance'}\n",
      "0.933 (+/-0.038) for {'metric': 'chebyshev', 'n_neighbors': 3, 'weights': 'uniform'}\n",
      "0.942 (+/-0.027) for {'metric': 'chebyshev', 'n_neighbors': 3, 'weights': 'distance'}\n",
      "0.925 (+/-0.031) for {'metric': 'chebyshev', 'n_neighbors': 4, 'weights': 'uniform'}\n",
      "0.941 (+/-0.025) for {'metric': 'chebyshev', 'n_neighbors': 4, 'weights': 'distance'}\n",
      "0.926 (+/-0.026) for {'metric': 'chebyshev', 'n_neighbors': 5, 'weights': 'uniform'}\n",
      "0.935 (+/-0.033) for {'metric': 'chebyshev', 'n_neighbors': 5, 'weights': 'distance'}\n",
      "0.925 (+/-0.033) for {'metric': 'chebyshev', 'n_neighbors': 6, 'weights': 'uniform'}\n",
      "0.932 (+/-0.027) for {'metric': 'chebyshev', 'n_neighbors': 6, 'weights': 'distance'}\n",
      "0.923 (+/-0.038) for {'metric': 'chebyshev', 'n_neighbors': 7, 'weights': 'uniform'}\n",
      "0.932 (+/-0.034) for {'metric': 'chebyshev', 'n_neighbors': 7, 'weights': 'distance'}\n",
      "0.912 (+/-0.035) for {'metric': 'chebyshev', 'n_neighbors': 8, 'weights': 'uniform'}\n",
      "0.927 (+/-0.029) for {'metric': 'chebyshev', 'n_neighbors': 8, 'weights': 'distance'}\n",
      "0.912 (+/-0.039) for {'metric': 'chebyshev', 'n_neighbors': 9, 'weights': 'uniform'}\n",
      "0.924 (+/-0.042) for {'metric': 'chebyshev', 'n_neighbors': 9, 'weights': 'distance'}\n",
      "0.912 (+/-0.045) for {'metric': 'chebyshev', 'n_neighbors': 10, 'weights': 'uniform'}\n",
      "0.925 (+/-0.038) for {'metric': 'chebyshev', 'n_neighbors': 10, 'weights': 'distance'}\n",
      "0.974 (+/-0.028) for {'metric': 'cosine', 'n_neighbors': 1, 'weights': 'uniform'}\n",
      "0.974 (+/-0.028) for {'metric': 'cosine', 'n_neighbors': 1, 'weights': 'distance'}\n",
      "0.959 (+/-0.021) for {'metric': 'cosine', 'n_neighbors': 2, 'weights': 'uniform'}\n",
      "0.974 (+/-0.028) for {'metric': 'cosine', 'n_neighbors': 2, 'weights': 'distance'}\n",
      "0.969 (+/-0.011) for {'metric': 'cosine', 'n_neighbors': 3, 'weights': 'uniform'}\n",
      "0.971 (+/-0.018) for {'metric': 'cosine', 'n_neighbors': 3, 'weights': 'distance'}\n",
      "0.963 (+/-0.016) for {'metric': 'cosine', 'n_neighbors': 4, 'weights': 'uniform'}\n",
      "0.969 (+/-0.019) for {'metric': 'cosine', 'n_neighbors': 4, 'weights': 'distance'}\n",
      "0.963 (+/-0.014) for {'metric': 'cosine', 'n_neighbors': 5, 'weights': 'uniform'}\n",
      "0.966 (+/-0.016) for {'metric': 'cosine', 'n_neighbors': 5, 'weights': 'distance'}\n",
      "0.962 (+/-0.014) for {'metric': 'cosine', 'n_neighbors': 6, 'weights': 'uniform'}\n",
      "0.967 (+/-0.018) for {'metric': 'cosine', 'n_neighbors': 6, 'weights': 'distance'}\n",
      "0.965 (+/-0.015) for {'metric': 'cosine', 'n_neighbors': 7, 'weights': 'uniform'}\n",
      "0.965 (+/-0.023) for {'metric': 'cosine', 'n_neighbors': 7, 'weights': 'distance'}\n",
      "0.965 (+/-0.015) for {'metric': 'cosine', 'n_neighbors': 8, 'weights': 'uniform'}\n",
      "0.967 (+/-0.021) for {'metric': 'cosine', 'n_neighbors': 8, 'weights': 'distance'}\n",
      "0.962 (+/-0.014) for {'metric': 'cosine', 'n_neighbors': 9, 'weights': 'uniform'}\n",
      "0.967 (+/-0.020) for {'metric': 'cosine', 'n_neighbors': 9, 'weights': 'distance'}\n",
      "0.961 (+/-0.012) for {'metric': 'cosine', 'n_neighbors': 10, 'weights': 'uniform'}\n",
      "0.965 (+/-0.018) for {'metric': 'cosine', 'n_neighbors': 10, 'weights': 'distance'}\n",
      "\n",
      "Best parameters set found on development set:\n",
      "\n",
      "{'metric': 'manhattan', 'n_neighbors': 4, 'weights': 'distance'}\n",
      "0.9722222222222222\n"
     ]
    }
   ],
   "source": [
    "from sklearn.model_selection import GridSearchCV\n",
    "\n",
    "# Write 2 lines of code to run GridSearchCV with cv=7 to tune the above hyperparams.\n",
    "param_grid = {'n_neighbors':list(range(1,11)),\n",
    "              'weights':['uniform','distance'],\n",
    "              'metric':['euclidean','manhattan','chebyshev','cosine']}\n",
    "\n",
    "grid_search_clf = GridSearchCV(KNeighborsClassifier(),cv=7,scoring='accuracy',param_grid=param_grid)\n",
    "\n",
    "\n",
    "# Task ends here!\n",
    "\n",
    "grid_search_clf.fit(x_train, y_train)\n",
    "means = grid_search_clf.cv_results_['mean_test_score']\n",
    "stds = grid_search_clf.cv_results_['std_test_score']\n",
    "for mean, std, params in zip(means, stds, grid_search_clf.cv_results_['params']):\n",
    "    print(\"%0.3f (+/-%0.03f) for %r\"\n",
    "        % (mean, std * 2, params))\n",
    "print()\n",
    "print(\"Best parameters set found on development set:\")\n",
    "print()\n",
    "print(grid_search_clf.best_params_)\n",
    "\n",
    "y_pred = grid_search_clf.predict(x_test)\n",
    "print(accuracy_score(y_test, y_pred))"
   ],
   "metadata": {
    "collapsed": false,
    "pycharm": {
     "name": "#%%\n"
    }
   }
  }
 ],
 "metadata": {
  "kernelspec": {
   "display_name": "Python 3",
   "language": "python",
   "name": "python3"
  },
  "language_info": {
   "codemirror_mode": {
    "name": "ipython",
    "version": 2
   },
   "file_extension": ".py",
   "mimetype": "text/x-python",
   "name": "python",
   "nbconvert_exporter": "python",
   "pygments_lexer": "ipython2",
   "version": "2.7.6"
  }
 },
 "nbformat": 4,
 "nbformat_minor": 0
}