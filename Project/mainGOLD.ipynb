{
 "cells": [
  {
   "cell_type": "code",
   "execution_count": 1,
   "metadata": {
    "collapsed": true
   },
   "outputs": [],
   "source": [
    "#imports\n",
    "from tensorflow.keras.callbacks import EarlyStopping, ReduceLROnPlateau,Callback\n",
    "from tensorflow.keras.models import Sequential\n",
    "from tensorflow.keras.optimizers import SGD, Adam, Nadam, RMSprop\n",
    "from tensorflow.keras.layers import Conv2D, MaxPool2D,Flatten,Dense,Dropout,BatchNormalization\n",
    "from tensorflow.keras.preprocessing.image import ImageDataGenerator\n",
    "from sklearn.metrics import confusion_matrix, f1_score, precision_score, recall_score\n",
    "import keras.backend as K\n",
    "import numpy as np\n"
   ]
  },
  {
   "cell_type": "code",
   "execution_count": 2,
   "outputs": [],
   "source": [
    "x_train = np.load('/Users/levsvalov/code_workspace/Fall2020/ML/Project/input_data/x.npy')\n",
    "y_train = np.load('/Users/levsvalov/code_workspace/Fall2020/ML/Project/input_data/y.npy')\n",
    "\n"
   ],
   "metadata": {
    "collapsed": false,
    "pycharm": {
     "name": "#%%\n"
    }
   }
  },
  {
   "cell_type": "code",
   "execution_count": 3,
   "outputs": [],
   "source": [
    "# one hot encode outputs - do not work\n",
    "# y_train = np_utils.to_categorical(y_train)"
   ],
   "metadata": {
    "collapsed": false,
    "pycharm": {
     "name": "#%%\n"
    }
   }
  },
  {
   "cell_type": "code",
   "execution_count": 4,
   "outputs": [],
   "source": [
    "def make_model():\n",
    "    m = Sequential()\n",
    "    m.add(Conv2D(8,kernel_size=5,input_shape=(28,28,1),activation='relu'))\n",
    "    m.add(MaxPool2D(pool_size=2,strides=1))\n",
    "    m.add(Conv2D(19,kernel_size=3,input_shape=(28,28,1),activation='relu')) # ooo santiii cazooorla\n",
    "    m.add(MaxPool2D(pool_size=2))\n",
    "    m.add(Conv2D(34,kernel_size=3,input_shape=(28,28,1),activation='relu')) # e blyaa granit xhaka\n",
    "    m.add(MaxPool2D(pool_size=2,strides=1))\n",
    "    m.add(BatchNormalization())\n",
    "    m.add(Flatten())\n",
    "    m.add(Dense(71,activation='relu')) # kovi\n",
    "    m.add(BatchNormalization())\n",
    "    m.add(Dropout(0.2))\n",
    "    m.add(Dense(130,activation='relu'))\n",
    "    m.add(BatchNormalization())\n",
    "    m.add(Dropout(0.2))\n",
    "    m.add(Dense(77,activation='relu')) # ex num for young talented guy - bakayko saka\n",
    "    m.add(BatchNormalization())\n",
    "    m.add(Dropout(0.2))\n",
    "    m.add(Dense(10,activation='softmax'))\n",
    "    return m"
   ],
   "metadata": {
    "collapsed": false,
    "pycharm": {
     "name": "#%%\n"
    }
   }
  },
  {
   "cell_type": "code",
   "execution_count": 5,
   "outputs": [
    {
     "name": "stderr",
     "output_type": "stream",
     "text": [
      "/usr/local/lib/python3.7/site-packages/keras_preprocessing/image/image_data_generator.py:337: UserWarning: This ImageDataGenerator specifies `zca_whitening`, which overrides setting of `featurewise_center`.\n",
      "  warnings.warn('This ImageDataGenerator specifies '\n",
      "/usr/local/lib/python3.7/site-packages/keras_preprocessing/image/image_data_generator.py:720: UserWarning: This ImageDataGenerator specifies `featurewise_center`, but it hasn't been fit on any training data. Fit it first by calling `.fit(numpy_data)`.\n",
      "  warnings.warn('This ImageDataGenerator specifies '\n",
      "/usr/local/lib/python3.7/site-packages/keras_preprocessing/image/image_data_generator.py:739: UserWarning: This ImageDataGenerator specifies `zca_whitening`, but it hasn't been fit on any training data. Fit it first by calling `.fit(numpy_data)`.\n",
      "  warnings.warn('This ImageDataGenerator specifies '\n"
     ]
    },
    {
     "name": "stdout",
     "output_type": "stream",
     "text": [
      "Epoch 1/27\n",
      "391/390 - 66s - loss: 1.0010 - accuracy: 0.6799 - val_loss: 0.4352 - val_accuracy: 0.8689\n",
      "Epoch 2/27\n",
      "391/390 - 66s - loss: 0.4016 - accuracy: 0.8789 - val_loss: 0.3833 - val_accuracy: 0.8811\n",
      "Epoch 3/27\n",
      "391/390 - 65s - loss: 0.3027 - accuracy: 0.9074 - val_loss: 0.2594 - val_accuracy: 0.9176\n",
      "Epoch 4/27\n",
      "391/390 - 58s - loss: 0.2481 - accuracy: 0.9270 - val_loss: 0.2128 - val_accuracy: 0.9333\n",
      "Epoch 5/27\n",
      "391/390 - 59s - loss: 0.2263 - accuracy: 0.9326 - val_loss: 0.2078 - val_accuracy: 0.9385\n",
      "Epoch 6/27\n",
      "391/390 - 70s - loss: 0.2083 - accuracy: 0.9379 - val_loss: 0.1481 - val_accuracy: 0.9547\n",
      "Epoch 7/27\n",
      "391/390 - 64s - loss: 0.1884 - accuracy: 0.9447 - val_loss: 0.1384 - val_accuracy: 0.9560\n",
      "Epoch 8/27\n",
      "391/390 - 68s - loss: 0.1825 - accuracy: 0.9456 - val_loss: 0.1430 - val_accuracy: 0.9575\n",
      "Epoch 9/27\n",
      "391/390 - 57s - loss: 0.1743 - accuracy: 0.9479 - val_loss: 0.1311 - val_accuracy: 0.9593\n",
      "Epoch 10/27\n",
      "391/390 - 53s - loss: 0.1659 - accuracy: 0.9506 - val_loss: 0.1053 - val_accuracy: 0.9677\n",
      "Epoch 11/27\n",
      "391/390 - 54s - loss: 0.1534 - accuracy: 0.9540 - val_loss: 0.1189 - val_accuracy: 0.9625\n",
      "Epoch 12/27\n",
      "391/390 - 52s - loss: 0.1491 - accuracy: 0.9558 - val_loss: 0.1060 - val_accuracy: 0.9672\n",
      "Epoch 13/27\n",
      "391/390 - 52s - loss: 0.1418 - accuracy: 0.9581 - val_loss: 0.1050 - val_accuracy: 0.9675\n",
      "Epoch 14/27\n",
      "391/390 - 52s - loss: 0.1456 - accuracy: 0.9564 - val_loss: 0.1128 - val_accuracy: 0.9636\n",
      "Epoch 15/27\n",
      "391/390 - 60s - loss: 0.1378 - accuracy: 0.9589 - val_loss: 0.0910 - val_accuracy: 0.9720\n",
      "Epoch 16/27\n",
      "391/390 - 62s - loss: 0.1359 - accuracy: 0.9606 - val_loss: 0.0998 - val_accuracy: 0.9691\n",
      "Epoch 17/27\n",
      "391/390 - 61s - loss: 0.1332 - accuracy: 0.9606 - val_loss: 0.0965 - val_accuracy: 0.9695\n",
      "Epoch 18/27\n",
      "391/390 - 59s - loss: 0.1348 - accuracy: 0.9602 - val_loss: 0.0868 - val_accuracy: 0.9728\n",
      "Epoch 19/27\n",
      "391/390 - 59s - loss: 0.1296 - accuracy: 0.9625 - val_loss: 0.0991 - val_accuracy: 0.9693\n",
      "Epoch 20/27\n",
      "391/390 - 68s - loss: 0.1273 - accuracy: 0.9619 - val_loss: 0.0822 - val_accuracy: 0.9735\n",
      "Epoch 21/27\n",
      "391/390 - 56s - loss: 0.1230 - accuracy: 0.9633 - val_loss: 0.0976 - val_accuracy: 0.9701\n",
      "Epoch 22/27\n",
      "391/390 - 74s - loss: 0.1256 - accuracy: 0.9626 - val_loss: 0.0982 - val_accuracy: 0.9689\n",
      "Epoch 23/27\n",
      "391/390 - 60s - loss: 0.1203 - accuracy: 0.9641 - val_loss: 0.0841 - val_accuracy: 0.9748\n",
      "Epoch 24/27\n",
      "391/390 - 71s - loss: 0.1174 - accuracy: 0.9658 - val_loss: 0.0852 - val_accuracy: 0.9728\n",
      "Epoch 25/27\n",
      "391/390 - 74s - loss: 0.1188 - accuracy: 0.9657 - val_loss: 0.0890 - val_accuracy: 0.9717\n",
      "Epoch 26/27\n",
      "391/390 - 70s - loss: 0.1147 - accuracy: 0.9659 - val_loss: 0.0840 - val_accuracy: 0.9723\n",
      "Epoch 27/27\n",
      "391/390 - 64s - loss: 0.1138 - accuracy: 0.9658 - val_loss: 0.0885 - val_accuracy: 0.9721\n"
     ]
    },
    {
     "data": {
      "text/plain": "<tensorflow.python.keras.callbacks.History at 0x1441d54d0>"
     },
     "execution_count": 5,
     "metadata": {},
     "output_type": "execute_result"
    }
   ],
   "source": [
    "# reverse color\n",
    "# rescale image in ove\n",
    "model = make_model()\n",
    "\n",
    "generator = ImageDataGenerator(zca_whitening=True,rotation_range=35, width_shift_range=0.15,height_shift_range=0.15,brightness_range=[0.2,0.8],zoom_range=0.25,validation_split=0.15)\n",
    "lr_scheduler = ReduceLROnPlateau(monitor='val_accuracy',factor=0.25,patience=8)\n",
    "early_stopping = EarlyStopping(monitor='val_accuracy', patience=10, restore_best_weights=True)\n",
    "model.compile(optimizer=Nadam(1e-3,clipnorm=1),loss='sparse_categorical_crossentropy', metrics=['accuracy'])\n",
    "model.fit(generator.flow(x_train,y_train, batch_size=128),\n",
    "          validation_data=generator.flow(x_train,y_train, batch_size=128,subset='validation'),\n",
    "          epochs=27,verbose=2,callbacks=[early_stopping,lr_scheduler],\n",
    "          steps_per_epoch=(len(x_train)/128))\n"
   ],
   "metadata": {
    "collapsed": false,
    "pycharm": {
     "name": "#%%\n"
    }
   }
  },
  {
   "cell_type": "code",
   "execution_count": 6,
   "outputs": [
    {
     "name": "stdout",
     "output_type": "stream",
     "text": [
      "done\n"
     ]
    }
   ],
   "source": [
    "model.save('/Users/levsvalov/code_workspace/Fall2020/ML/Project/model.h5')\n",
    "print(\"done\")\n"
   ],
   "metadata": {
    "collapsed": false,
    "pycharm": {
     "name": "#%%\n"
    }
   }
  }
 ],
 "metadata": {
  "kernelspec": {
   "display_name": "Python 3",
   "language": "python",
   "name": "python3"
  },
  "language_info": {
   "codemirror_mode": {
    "name": "ipython",
    "version": 2
   },
   "file_extension": ".py",
   "mimetype": "text/x-python",
   "name": "python",
   "nbconvert_exporter": "python",
   "pygments_lexer": "ipython2",
   "version": "2.7.6"
  }
 },
 "nbformat": 4,
 "nbformat_minor": 0
}